{
 "cells": [
  {
   "cell_type": "code",
   "execution_count": null,
   "id": "fcc32260",
   "metadata": {},
   "outputs": [],
   "source": [
    "from evmc_supply_curves.supplycurve_helpers import SupplyCurves"
   ]
  },
  {
   "cell_type": "markdown",
   "id": "ab430247",
   "metadata": {},
   "source": [
    "This will create an instance of a SupplyCurves object from the table provided, with a resolution of 1% increments of customer participation."
   ]
  },
  {
   "cell_type": "code",
   "execution_count": null,
   "id": "7f5f733c",
   "metadata": {},
   "outputs": [],
   "source": [
    "#create tables\n",
    "sc=SupplyCurves()\n",
    "sc.load_existing_table()\n",
    "sc.table.head()"
   ]
  },
  {
   "cell_type": "markdown",
   "id": "73dec18d",
   "metadata": {},
   "source": [
    "This generates a table of beta values used to calculate the customer response to incentives or marketing."
   ]
  },
  {
   "cell_type": "code",
   "execution_count": null,
   "id": "50780141",
   "metadata": {},
   "outputs": [],
   "source": [
    "sc.create_betas_table()\n",
    "sc.betas.head()"
   ]
  },
  {
   "cell_type": "markdown",
   "id": "f9e8fc12",
   "metadata": {},
   "source": [
    "This will generate a new table of supply curves at a resolution of 20% customer participation"
   ]
  },
  {
   "cell_type": "code",
   "execution_count": null,
   "id": "c8f35c42",
   "metadata": {},
   "outputs": [],
   "source": [
    "ENROLLMENT_RESOLUTION = 10 #percent\n",
    "sc2=SupplyCurves(enrollment_resolution=ENROLLMENT_RESOLUTION)\n",
    "sc2.create_cost_table()\n",
    "sc2.table.head()"
   ]
  },
  {
   "cell_type": "markdown",
   "id": "09029b84",
   "metadata": {},
   "source": [
    "Using the table we just made, we can find the costs per vehicle to acheive 20% customer participation. We can specify any of 'EV_Type','Program','Scenario', 'Year', 'Customer_Type'. If not specified, all options will be provided."
   ]
  },
  {
   "cell_type": "code",
   "execution_count": null,
   "id": "23ec39a3",
   "metadata": {},
   "outputs": [],
   "source": [
    "PERCENT=20\n",
    "example_1=sc2.cost_per_EV(PERCENT, EV_Type='LDV')\n",
    "print(f\"A dataframe of costs per EV of enabling 20% of LDVs to provide managed charging\\\n",
    "        \\nin all scenarios and years:\\n{example_1}\") "
   ]
  },
  {
   "cell_type": "markdown",
   "id": "0b0be450",
   "metadata": {},
   "source": [
    "If all variables are specified, only one cost per EV will be produced. "
   ]
  },
  {
   "cell_type": "code",
   "execution_count": null,
   "id": "92b87629",
   "metadata": {},
   "outputs": [],
   "source": [
    "example_2=sc2.cost_per_EV(15, EV_Type='LDV', Program='DLC',Scenario='high', Year=2025, Customer_Type='new')\n",
    "print(f\"The cost per EV of enabling 15% of LDVs to participate in direct load control\\\n",
    "        \\nprograms in a High-Flexibility scenario in 2025 is ${example_2['15%'].values[0]}\") \n",
    " "
   ]
  }
 ],
 "metadata": {
  "kernelspec": {
   "display_name": "EVMC",
   "language": "python",
   "name": "python3"
  },
  "language_info": {
   "codemirror_mode": {
    "name": "ipython",
    "version": 3
   },
   "file_extension": ".py",
   "mimetype": "text/x-python",
   "name": "python",
   "nbconvert_exporter": "python",
   "pygments_lexer": "ipython3",
   "version": "3.11.4"
  }
 },
 "nbformat": 4,
 "nbformat_minor": 5
}
